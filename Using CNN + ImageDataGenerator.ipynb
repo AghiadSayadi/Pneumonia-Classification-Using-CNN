{
 "cells": [
  {
   "cell_type": "code",
   "execution_count": 1,
   "id": "318e30e6-e0c4-4e48-b7dc-2185a3ec3bd3",
   "metadata": {},
   "outputs": [],
   "source": [
    "import tensorflow as tf\n",
    "from tensorflow.keras import datasets, layers, models\n",
    "import matplotlib.pyplot as plt\n",
    "import numpy as np"
   ]
  },
  {
   "cell_type": "code",
   "execution_count": 2,
   "id": "f1a6653c-3935-4c71-a68f-8441536effae",
   "metadata": {},
   "outputs": [],
   "source": [
    "import numpy as np \n",
    "import pandas as pd \n",
    "import tensorflow as tf\n",
    "from tensorflow import keras\n",
    "from keras.models import Sequential\n",
    "from keras.layers import Dense,Activation,Flatten,Dropout\n",
    "from keras.layers import Conv2D,MaxPooling2D\n",
    "from keras.callbacks import ModelCheckpoint\n",
    "from tensorflow.keras.preprocessing.image import ImageDataGenerator\n",
    "from tensorflow.keras import layers\n",
    "import os"
   ]
  },
  {
   "cell_type": "code",
   "execution_count": 3,
   "id": "390e9f36-a968-4aa1-8d23-5be4004bf2d9",
   "metadata": {},
   "outputs": [],
   "source": [
    "datagen = ImageDataGenerator (\n",
    "            rescale = 1./255, \n",
    "            shear_range=0.2,\n",
    "            zoom_range=0.2,\n",
    "            horizontal_flip=True,\n",
    "            )\n",
    "images_dir = 'chest_xray/'"
   ]
  },
  {
   "cell_type": "code",
   "execution_count": 4,
   "id": "522c9c57-2d5c-4b4c-9806-cc8022017d2c",
   "metadata": {},
   "outputs": [
    {
     "name": "stdout",
     "output_type": "stream",
     "text": [
      "Found 5216 images belonging to 2 classes.\n",
      "Found 624 images belonging to 2 classes.\n",
      "Found 16 images belonging to 2 classes.\n"
     ]
    }
   ],
   "source": [
    "train_generator  =    datagen.flow_from_directory(\n",
    "                             images_dir + 'train',\n",
    "                             seed=42,\n",
    "                             target_size = (200,200),\n",
    "                             batch_size =32 ,               \n",
    "                             class_mode = 'binary',\n",
    "                            )\n",
    "\n",
    "test_generator = datagen.flow_from_directory(\n",
    "                             images_dir + 'test' ,\n",
    "                             seed=42, \n",
    "                             target_size = (200,200),\n",
    "                             batch_size = 32 ,               \n",
    "                             class_mode = 'binary',\n",
    "                            )\n",
    "\n",
    "Validation_generator = datagen.flow_from_directory(\n",
    "                             images_dir + 'val' ,\n",
    "                             seed=42, \n",
    "                             target_size = (200,200),\n",
    "                             batch_size = 32 ,               \n",
    "                             class_mode = 'binary',\n",
    "                            )"
   ]
  },
  {
   "cell_type": "code",
   "execution_count": 5,
   "id": "89e17158-7402-4f38-b64a-950efd334061",
   "metadata": {},
   "outputs": [],
   "source": [
    "model=Sequential()\n",
    "\n",
    "model.add(Conv2D(32,(3,3),input_shape=(200,200,3)))\n",
    "model.add(Activation('relu'))\n",
    "model.add(MaxPooling2D(pool_size=(2,2)))\n",
    "\n",
    "model.add(Conv2D(64,(3,3)))\n",
    "model.add(Activation('relu'))\n",
    "model.add(MaxPooling2D(pool_size=(2,2)))\n",
    "\n",
    "model.add(Conv2D(128,(3,3)))\n",
    "model.add(Activation('relu'))\n",
    "model.add(MaxPooling2D(pool_size=(2,2)))\n",
    "\n",
    "model.add(Conv2D(256,(3,3)))\n",
    "model.add(Activation('relu'))\n",
    "model.add(MaxPooling2D(pool_size=(2,2)))\n",
    "\n",
    "model.add(Flatten())\n",
    "\n",
    "model.add(Dense(256,activation='relu'))\n",
    "model.add(Dropout(0.5))\n",
    "\n",
    "model.add(Dense(128,activation='relu'))\n",
    "model.add(Dropout(0.5))\n",
    "\n",
    "model.add(Dense(64,activation='relu'))\n",
    "model.add(Dropout(0.5))\n",
    "\n",
    "model.add(Dense(1,activation='sigmoid'))\n",
    "model.compile(loss='binary_crossentropy',optimizer='adam',metrics=['accuracy'])"
   ]
  },
  {
   "cell_type": "code",
   "execution_count": 6,
   "id": "1166dc99-f031-4ed0-9b95-d30b37b5acdd",
   "metadata": {},
   "outputs": [],
   "source": [
    "from keras.callbacks import ReduceLROnPlateau\n",
    "learning_rate_reduction = ReduceLROnPlateau(monitor='val_loss', factor=0.3, patience=2, verbose=2, mode='auto')"
   ]
  },
  {
   "cell_type": "code",
   "execution_count": 7,
   "id": "765aa86f-7b2d-4a84-8e23-2f65347e3798",
   "metadata": {},
   "outputs": [
    {
     "name": "stderr",
     "output_type": "stream",
     "text": [
      "C:\\Users\\agsa3\\.conda\\envs\\Bert\\lib\\site-packages\\keras\\engine\\training.py:1972: UserWarning: `Model.fit_generator` is deprecated and will be removed in a future version. Please use `Model.fit`, which supports generators.\n",
      "  warnings.warn('`Model.fit_generator` is deprecated and '\n"
     ]
    },
    {
     "name": "stdout",
     "output_type": "stream",
     "text": [
      "Epoch 1/10\n",
      "163/163 [==============================] - 99s 586ms/step - loss: 0.5198 - accuracy: 0.7577 - val_loss: 0.5425 - val_accuracy: 0.7308\n",
      "Epoch 2/10\n",
      "163/163 [==============================] - 91s 559ms/step - loss: 0.3251 - accuracy: 0.8526 - val_loss: 0.5142 - val_accuracy: 0.8317\n",
      "Epoch 3/10\n",
      "163/163 [==============================] - 94s 574ms/step - loss: 0.2509 - accuracy: 0.9013 - val_loss: 0.3969 - val_accuracy: 0.8606\n",
      "Epoch 4/10\n",
      "163/163 [==============================] - 92s 560ms/step - loss: 0.2334 - accuracy: 0.9107 - val_loss: 0.5095 - val_accuracy: 0.8269\n",
      "Epoch 5/10\n",
      "163/163 [==============================] - 91s 559ms/step - loss: 0.2057 - accuracy: 0.9191 - val_loss: 0.4960 - val_accuracy: 0.7821\n",
      "\n",
      "Epoch 00005: ReduceLROnPlateau reducing learning rate to 0.0003000000142492354.\n",
      "Epoch 6/10\n",
      "163/163 [==============================] - 91s 560ms/step - loss: 0.1852 - accuracy: 0.9346 - val_loss: 0.6474 - val_accuracy: 0.7901\n",
      "Epoch 7/10\n",
      "163/163 [==============================] - 91s 559ms/step - loss: 0.1648 - accuracy: 0.9367 - val_loss: 0.4206 - val_accuracy: 0.8462\n",
      "\n",
      "Epoch 00007: ReduceLROnPlateau reducing learning rate to 9.000000427477062e-05.\n",
      "Epoch 8/10\n",
      "163/163 [==============================] - 92s 565ms/step - loss: 0.1505 - accuracy: 0.9471 - val_loss: 0.4326 - val_accuracy: 0.8462\n",
      "Epoch 9/10\n",
      "163/163 [==============================] - 91s 559ms/step - loss: 0.1358 - accuracy: 0.9505 - val_loss: 0.4111 - val_accuracy: 0.8462\n",
      "\n",
      "Epoch 00009: ReduceLROnPlateau reducing learning rate to 2.700000040931627e-05.\n",
      "Epoch 10/10\n",
      "163/163 [==============================] - 91s 559ms/step - loss: 0.1451 - accuracy: 0.9503 - val_loss: 0.4233 - val_accuracy: 0.8638\n"
     ]
    }
   ],
   "source": [
    "history = model.fit_generator(\n",
    "                    train_generator ,\n",
    "                    epochs = 10,\n",
    "                    validation_data = test_generator,\n",
    "                    callbacks = [learning_rate_reduction])"
   ]
  },
  {
   "cell_type": "code",
   "execution_count": 8,
   "id": "c04a7dcb-2699-4da2-93d4-f5bb82ae3248",
   "metadata": {},
   "outputs": [],
   "source": [
    "model.save('CNNModel.h5')"
   ]
  },
  {
   "cell_type": "code",
   "execution_count": null,
   "id": "77e0a9d4-2c4a-4a2a-a907-88782f6db075",
   "metadata": {},
   "outputs": [],
   "source": []
  }
 ],
 "metadata": {
  "kernelspec": {
   "display_name": "Python 3 (ipykernel)",
   "language": "python",
   "name": "python3"
  },
  "language_info": {
   "codemirror_mode": {
    "name": "ipython",
    "version": 3
   },
   "file_extension": ".py",
   "mimetype": "text/x-python",
   "name": "python",
   "nbconvert_exporter": "python",
   "pygments_lexer": "ipython3",
   "version": "3.8.11"
  }
 },
 "nbformat": 4,
 "nbformat_minor": 5
}
